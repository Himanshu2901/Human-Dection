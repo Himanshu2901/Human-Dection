
import speech_recognition as sr
import nltk
import pyttsx3


import cv2
#human dection
hog = cv2.HOGDescriptor()
hog.setSVMDetector(cv2.HOGDescriptor_getDefaultPeopleDetector())
vid=cv2.VideoCapture(index=0)
while True:
    ack,img=vid.read()
    if ack:
        people,weights=hog.detectMultiScale(
            cv2.cvtColor(img,cv2.COLOR_BGR2GRAY),winStride=(15,15)
        )
        for x,y,w,h in people:
            cv2.rectangle(
                img,pt1=(x,y),pt2=(x+w,y+h),color=(0,0,255),thickness=5
            )
        cv2.imshow('Preview',img)
        if cv2.waitKey(delay=1)==ord('x'):
            break

cv2.destroyAllWindows(); cv2.waitKey(1) 
vid.release()
 
